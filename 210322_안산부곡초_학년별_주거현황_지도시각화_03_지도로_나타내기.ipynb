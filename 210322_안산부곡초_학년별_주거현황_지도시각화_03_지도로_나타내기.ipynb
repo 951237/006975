{
  "nbformat": 4,
  "nbformat_minor": 0,
  "metadata": {
    "colab": {
      "name": "210322_안산부곡초 학년별 주거현황_지도시각화_03_지도로 나타내기.ipynb",
      "provenance": [],
      "include_colab_link": true
    },
    "kernelspec": {
      "name": "python3",
      "display_name": "Python 3"
    }
  },
  "cells": [
    {
      "cell_type": "markdown",
      "metadata": {
        "id": "view-in-github",
        "colab_type": "text"
      },
      "source": [
        "<a href=\"https://colab.research.google.com/github/951237/006975/blob/master/210322_%EC%95%88%EC%82%B0%EB%B6%80%EA%B3%A1%EC%B4%88_%ED%95%99%EB%85%84%EB%B3%84_%EC%A3%BC%EA%B1%B0%ED%98%84%ED%99%A9_%EC%A7%80%EB%8F%84%EC%8B%9C%EA%B0%81%ED%99%94_03_%EC%A7%80%EB%8F%84%EB%A1%9C_%EB%82%98%ED%83%80%EB%82%B4%EA%B8%B0.ipynb\" target=\"_parent\"><img src=\"https://colab.research.google.com/assets/colab-badge.svg\" alt=\"Open In Colab\"/></a>"
      ]
    },
    {
      "cell_type": "markdown",
      "metadata": {
        "id": "i-PyOeuO-JYu"
      },
      "source": [
        "# 학년별 명부를 바탕으로 지도에 위치 표시하기(반별로 표시하기)"
      ]
    },
    {
      "cell_type": "code",
      "metadata": {
        "colab": {
          "base_uri": "https://localhost:8080/"
        },
        "id": "0xfyFurpo2To",
        "outputId": "1c861107-d1e3-47ef-fb92-63007f0b471f"
      },
      "source": [
        "from google.colab import drive\n",
        "drive.mount('/content/drive')"
      ],
      "execution_count": null,
      "outputs": [
        {
          "output_type": "stream",
          "text": [
            "Mounted at /content/drive\n"
          ],
          "name": "stdout"
        }
      ]
    },
    {
      "cell_type": "code",
      "metadata": {
        "id": "rn63D0lGnLtW"
      },
      "source": [
        "import pandas as pd\n",
        "import pandas as pd\n",
        "import numpy as np\n",
        "import matplotlib.pyplot as plt\n",
        "import seaborn as sns\n",
        "import folium\n",
        "import time"
      ],
      "execution_count": null,
      "outputs": []
    },
    {
      "cell_type": "code",
      "metadata": {
        "id": "ch2G1XpFxeyr"
      },
      "source": [
        "def get_info(df):\n",
        "    print(df.shape, '\\n')\n",
        "    print(df.dtypes, '\\n')\n",
        "    print(df.head(), '\\n')\n",
        "    print(df.tail(), '\\n')"
      ],
      "execution_count": null,
      "outputs": []
    },
    {
      "cell_type": "code",
      "metadata": {
        "id": "CfiGlmICnBkX"
      },
      "source": [
        "PATH_FILE = \"/content/drive/My Drive/data/hakhyun/학생명부/학생명부_좌표_210318.xlsx\""
      ],
      "execution_count": null,
      "outputs": []
    },
    {
      "cell_type": "code",
      "metadata": {
        "id": "NOgbb_YJnFlE"
      },
      "source": [
        "df_ansan_coord = pd.read_excel(PATH_FILE)"
      ],
      "execution_count": null,
      "outputs": []
    },
    {
      "cell_type": "code",
      "metadata": {
        "id": "0yxaNyoxJuP_"
      },
      "source": [
        "# 학년 및 반별 인원 데이터프레임 저장하기\n",
        "dic_df = {\n",
        "        2 : {\n",
        "            1 : '',\n",
        "            2 : '',\n",
        "            3 : '',\n",
        "            4 : ''\n",
        "        },\n",
        "        3 : {\n",
        "            1 : '',\n",
        "            2 : '',\n",
        "            3 : '',\n",
        "            4 : '',\n",
        "            5 : ''\n",
        "        },\n",
        "        4 : {\n",
        "            1 : '',\n",
        "            2 : '',\n",
        "            3 : '',\n",
        "            4 : '',\n",
        "            5 : ''\n",
        "        },\n",
        "        5 : {\n",
        "            1 : '',\n",
        "            2 : '',\n",
        "            3 : '',\n",
        "            4 : '',\n",
        "            5 : ''\n",
        "        },\n",
        "        6 : {\n",
        "            1 : '',\n",
        "            2 : '',\n",
        "            3 : '',\n",
        "            4 : ''\n",
        "        }\n",
        "}\n",
        "for i in range(2, 7):\n",
        "    for k in range(1, 6):\n",
        "        try:\n",
        "            temp = df_ansan_coord.loc[ (df_ansan_coord['학년'] == i) & (df_ansan_coord['반'] == k) ].copy()\n",
        "            dic_df[i][k] = temp\n",
        "        except:\n",
        "            print('오류발생 확인!')"
      ],
      "execution_count": null,
      "outputs": []
    },
    {
      "cell_type": "code",
      "metadata": {
        "id": "0nz9Nq-wGouF"
      },
      "source": [
        "# 학년별로 지도 마커 다르게 그리기\n",
        "# ['red', 'blue', 'green', 'purple', 'orange', 'darkred', 'lightred', 'beige', 'darkblue', 'darkgreen', 'cadetblue', \n",
        "#  'darkpurple', 'white', 'pink', 'lightblue', 'lightgreen', 'gray', 'black', 'lightgray']\n",
        "dic_color = {1 : 'green',  2 : 'pink', 3 : 'blue',  4 : 'orange', 5 : 'red'}\n",
        "for i in range(2, 7):\n",
        "    for t in range(1, 6):\n",
        "        map = folium.Map(location = [df_ansan_coord['lat'].mean(), df_ansan_coord['lng'].mean()], zoom_start=12) # 명부의 위치의 평균값을 가운데값으로 잡고 지도 레벨을 결정\n",
        "        if len(dic_df[i][t]) > 0:\n",
        "            for n in dic_df[i][t].index:\n",
        "                popup_name = dic_df[i][t]['성명'][n]\n",
        "                folium.Marker( [dic_df[i][t]['lat'][n], dic_df[i][t]['lng'][n]],\n",
        "                            popup = popup_name,\n",
        "                            icon = folium.Icon(color='red')).add_to(map) # 지도에서 색깔 다르게 지정하기\n",
        "                map.save(f\"/content/drive/My Drive/data/hakhyun/지도_학년별 거주현황/{i}학년 {t}반 거주지_컬러.html\")\n"
      ],
      "execution_count": null,
      "outputs": []
    },
    {
      "cell_type": "code",
      "metadata": {
        "id": "j273bVZ2ZsUv"
      },
      "source": [
        ""
      ],
      "execution_count": null,
      "outputs": []
    }
  ]
}